{
 "cells": [
  {
   "cell_type": "code",
   "execution_count": 1,
   "id": "a7b62419-9dd6-4bba-9149-7da5871210fa",
   "metadata": {},
   "outputs": [],
   "source": [
    "import pickle\n",
    "filename=\"finalised_model_multiple_linear.sav\"\n",
    "\n",
    "#pickle is the library used to save files\n",
    "# Specify the filename and assign it to a variable"
   ]
  },
  {
   "cell_type": "code",
   "execution_count": 2,
   "id": "41e4fdfe-1690-4589-bc53-937b8a9f4149",
   "metadata": {},
   "outputs": [],
   "source": [
    "loaded_model=pickle.load(open(\"finalised_model_multiple_linear.sav\",'rb'))\n",
    "\n",
    "# Read the loaded model use 'rb'"
   ]
  },
  {
   "cell_type": "code",
   "execution_count": 3,
   "id": "194fbc2d-8e09-4779-9b22-e5dfd77dd5a7",
   "metadata": {},
   "outputs": [
    {
     "name": "stderr",
     "output_type": "stream",
     "text": [
      "C:\\Users\\ravi\\anaconda3\\Lib\\site-packages\\sklearn\\base.py:493: UserWarning: X does not have valid feature names, but LinearRegression was fitted with feature names\n",
      "  warnings.warn(\n"
     ]
    }
   ],
   "source": [
    "result=loaded_model.predict([[10000,2000,4000,3000,8000]])\n",
    "\n",
    "# Check the results of the loaded model and confirm if it works properly by giving inputs "
   ]
  },
  {
   "cell_type": "code",
   "execution_count": 4,
   "id": "19f02b33-0c29-416b-8875-58e9e2eefd0c",
   "metadata": {},
   "outputs": [
    {
     "data": {
      "text/plain": [
       "array([[3876882.35159904]])"
      ]
     },
     "execution_count": 4,
     "metadata": {},
     "output_type": "execute_result"
    }
   ],
   "source": [
    "result"
   ]
  },
  {
   "cell_type": "code",
   "execution_count": null,
   "id": "b8953bf2-6318-4e46-b57b-29621114a576",
   "metadata": {},
   "outputs": [],
   "source": []
  }
 ],
 "metadata": {
  "kernelspec": {
   "display_name": "Python 3 (ipykernel)",
   "language": "python",
   "name": "python3"
  },
  "language_info": {
   "codemirror_mode": {
    "name": "ipython",
    "version": 3
   },
   "file_extension": ".py",
   "mimetype": "text/x-python",
   "name": "python",
   "nbconvert_exporter": "python",
   "pygments_lexer": "ipython3",
   "version": "3.12.7"
  }
 },
 "nbformat": 4,
 "nbformat_minor": 5
}
